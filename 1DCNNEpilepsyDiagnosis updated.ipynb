{
 "cells": [
  {
   "cell_type": "code",
   "execution_count": 1,
   "metadata": {},
   "outputs": [
    {
     "name": "stderr",
     "output_type": "stream",
     "text": [
      "Using TensorFlow backend.\n"
     ]
    }
   ],
   "source": [
    "import sys\n",
    "import numpy as np\n",
    "from sklearn.metrics import confusion_matrix\n",
    "\n",
    "from numpy.random import seed\n",
    "seed(1)\n",
    "from tensorflow import set_random_seed\n",
    "set_random_seed(2)\n",
    "\n",
    "import scipy as sp\n",
    "import scipy.io as spio\n",
    "import matplotlib.pylab as pl\n",
    "\n",
    "from tensorflow.python import keras\n",
    "from sklearn.model_selection import train_test_split\n",
    "\n",
    "from tensorflow.python.keras.models import Sequential, Model\n",
    "from tensorflow.python.keras.layers import Dense, Flatten, Conv1D, Dropout, MaxPooling1D, Reshape, GlobalAveragePooling1D\n",
    "from tensorflow.python.keras.utils import np_utils\n",
    "\n",
    "import keras.backend as K\n",
    "\n",
    "config = K.tf.ConfigProto()\n",
    "config.gpu_options.allow_growth = True\n",
    "#session = K.tf.Session(config=config)\n"
   ]
  },
  {
   "cell_type": "code",
   "execution_count": 2,
   "metadata": {},
   "outputs": [
    {
     "name": "stdout",
     "output_type": "stream",
     "text": [
      "[4. 1. 5. ... 5. 3. 4.]\n",
      "(9200, 177)\n",
      "(9200,)\n"
     ]
    }
   ],
   "source": [
    "dataset = np.loadtxt(\"datalast.csv\",delimiter=\",\")\n",
    "X = dataset[:,0:177]\n",
    "y = dataset[:,178]\n",
    "\n",
    "\n",
    "#print(X[0].shape)\n",
    "\n",
    "X_train, X_test, y_train, y_test = train_test_split(X, y, test_size=0.2, random_state=0)\n",
    "\n",
    "print(y)\n",
    "\n",
    "\n",
    "print(X_train.shape)\n",
    "print (y_train.shape)"
   ]
  },
  {
   "cell_type": "code",
   "execution_count": 3,
   "metadata": {},
   "outputs": [
    {
     "name": "stdout",
     "output_type": "stream",
     "text": [
      "(9200, 177, 1)\n",
      "(9200, 1)\n",
      "(2300, 177, 1)\n",
      "(2300, 1)\n"
     ]
    }
   ],
   "source": [
    "X_train = X_train.reshape(X_train.shape[0], X_train.shape[1], 1)\n",
    "y_train = y_train.reshape(y_train.shape[0],1)\n",
    "\n",
    "X_test = X_test.reshape(X_test.shape[0], X_test.shape[1], 1)\n",
    "y_test = y_test.reshape(y_test.shape[0],1)\n",
    "\n",
    "\n",
    "print(X_train.shape)\n",
    "print (y_train.shape)\n",
    "\n",
    "print(X_test.shape)\n",
    "print(y_test.shape)"
   ]
  },
  {
   "cell_type": "code",
   "execution_count": 4,
   "metadata": {},
   "outputs": [
    {
     "name": "stdout",
     "output_type": "stream",
     "text": [
      "New y_train shape:  (9200, 5)\n",
      "New y_test shape:  (2300, 5)\n"
     ]
    }
   ],
   "source": [
    "y_train_hot = np_utils.to_categorical(y_train-1, 5) # subtracting y_train-1 as keras starts num_Classes index from 0 and we had it from 1 to 5\n",
    "print('New y_train shape: ', y_train_hot.shape)\n",
    "\n",
    "y_test_hot = np_utils.to_categorical(y_test-1, 5) # subtracting y_train-1 as keras starts num_Classes index from 0 and we had it from 1 to 5\n",
    "print('New y_test shape: ', y_test_hot.shape)"
   ]
  },
  {
   "cell_type": "code",
   "execution_count": 5,
   "metadata": {
    "scrolled": true
   },
   "outputs": [
    {
     "name": "stdout",
     "output_type": "stream",
     "text": [
      "_________________________________________________________________\n",
      "Layer (type)                 Output Shape              Param #   \n",
      "=================================================================\n",
      "conv1d (Conv1D)              (None, 168, 60)           660       \n",
      "_________________________________________________________________\n",
      "conv1d_1 (Conv1D)            (None, 159, 60)           36060     \n",
      "_________________________________________________________________\n",
      "max_pooling1d (MaxPooling1D) (None, 79, 60)            0         \n",
      "_________________________________________________________________\n",
      "dropout (Dropout)            (None, 79, 60)            0         \n",
      "_________________________________________________________________\n",
      "conv1d_2 (Conv1D)            (None, 70, 100)           60100     \n",
      "_________________________________________________________________\n",
      "conv1d_3 (Conv1D)            (None, 61, 100)           100100    \n",
      "_________________________________________________________________\n",
      "max_pooling1d_1 (MaxPooling1 (None, 30, 100)           0         \n",
      "_________________________________________________________________\n",
      "dropout_1 (Dropout)          (None, 30, 100)           0         \n",
      "_________________________________________________________________\n",
      "conv1d_4 (Conv1D)            (None, 26, 50)            25050     \n",
      "_________________________________________________________________\n",
      "global_average_pooling1d (Gl (None, 50)                0         \n",
      "_________________________________________________________________\n",
      "dropout_2 (Dropout)          (None, 50)                0         \n",
      "_________________________________________________________________\n",
      "dense (Dense)                (None, 5)                 255       \n",
      "=================================================================\n",
      "Total params: 222,225\n",
      "Trainable params: 222,225\n",
      "Non-trainable params: 0\n",
      "_________________________________________________________________\n",
      "None\n"
     ]
    }
   ],
   "source": [
    "model_m = Sequential()\n",
    "model_m.add(Conv1D(60, 10, activation='relu', input_shape=(177,1)))\n",
    "model_m.add(Conv1D(60, 10, activation='relu'))\n",
    "model_m.add(MaxPooling1D(2))\n",
    "model_m.add(Dropout(0.15))\n",
    "model_m.add(Conv1D(100, 10, activation='relu'))\n",
    "model_m.add(Conv1D(100, 10, activation='relu'))\n",
    "model_m.add(MaxPooling1D(2))\n",
    "model_m.add(Dropout(0.15))\n",
    "model_m.add(Conv1D(50, 5, activation='relu'))\n",
    "model_m.add(GlobalAveragePooling1D())\n",
    "model_m.add(Dropout(0.15))\n",
    "model_m.add(Dense(5, activation='softmax'))\n",
    "print(model_m.summary())"
   ]
  },
  {
   "cell_type": "code",
   "execution_count": 6,
   "metadata": {
    "scrolled": true
   },
   "outputs": [
    {
     "name": "stdout",
     "output_type": "stream",
     "text": [
      "Train on 7360 samples, validate on 1840 samples\n",
      "Epoch 1/80\n",
      "7360/7360 [==============================] - 4s 482us/step - loss: 2.1765 - acc: 0.2367 - val_loss: 1.3810 - val_acc: 0.3293\n",
      "Epoch 2/80\n",
      "7360/7360 [==============================] - 1s 93us/step - loss: 1.2973 - acc: 0.3576 - val_loss: 1.2103 - val_acc: 0.4951\n",
      "Epoch 3/80\n",
      "7360/7360 [==============================] - 1s 94us/step - loss: 1.1762 - acc: 0.4656 - val_loss: 1.0765 - val_acc: 0.5745\n",
      "Epoch 4/80\n",
      "7360/7360 [==============================] - 1s 94us/step - loss: 1.0927 - acc: 0.5106 - val_loss: 1.0463 - val_acc: 0.5255\n",
      "Epoch 5/80\n",
      "7360/7360 [==============================] - 1s 94us/step - loss: 0.9800 - acc: 0.5765 - val_loss: 0.8853 - val_acc: 0.6386\n",
      "Epoch 6/80\n",
      "7360/7360 [==============================] - 1s 94us/step - loss: 0.9050 - acc: 0.6043 - val_loss: 0.8175 - val_acc: 0.6511\n",
      "Epoch 7/80\n",
      "7360/7360 [==============================] - 1s 92us/step - loss: 0.8429 - acc: 0.6310 - val_loss: 0.7734 - val_acc: 0.6734\n",
      "Epoch 8/80\n",
      "7360/7360 [==============================] - 1s 91us/step - loss: 0.7925 - acc: 0.6452 - val_loss: 0.7311 - val_acc: 0.6772\n",
      "Epoch 9/80\n",
      "7360/7360 [==============================] - 1s 93us/step - loss: 0.7557 - acc: 0.6579 - val_loss: 0.7240 - val_acc: 0.6913\n",
      "Epoch 10/80\n",
      "7360/7360 [==============================] - 1s 92us/step - loss: 0.7308 - acc: 0.6682 - val_loss: 0.7154 - val_acc: 0.6707\n",
      "Epoch 11/80\n",
      "7360/7360 [==============================] - 1s 92us/step - loss: 0.7447 - acc: 0.6719 - val_loss: 0.7590 - val_acc: 0.6842\n",
      "Epoch 12/80\n",
      "7360/7360 [==============================] - 1s 92us/step - loss: 0.7006 - acc: 0.6833 - val_loss: 0.6600 - val_acc: 0.7060\n",
      "Epoch 13/80\n",
      "7360/7360 [==============================] - 1s 91us/step - loss: 0.6730 - acc: 0.6947 - val_loss: 0.6654 - val_acc: 0.7109\n",
      "Epoch 14/80\n",
      "7360/7360 [==============================] - 1s 92us/step - loss: 0.6704 - acc: 0.6864 - val_loss: 0.6470 - val_acc: 0.7120\n",
      "Epoch 15/80\n",
      "7360/7360 [==============================] - 1s 93us/step - loss: 0.6461 - acc: 0.7011 - val_loss: 0.6350 - val_acc: 0.7136\n",
      "Epoch 16/80\n",
      "7360/7360 [==============================] - 1s 92us/step - loss: 0.6281 - acc: 0.7088 - val_loss: 0.6378 - val_acc: 0.7136\n",
      "Epoch 17/80\n",
      "7360/7360 [==============================] - 1s 92us/step - loss: 0.6414 - acc: 0.7065 - val_loss: 0.6177 - val_acc: 0.7087\n",
      "Epoch 18/80\n",
      "7360/7360 [==============================] - 1s 92us/step - loss: 0.5884 - acc: 0.7311 - val_loss: 0.6132 - val_acc: 0.7054\n",
      "Epoch 19/80\n",
      "7360/7360 [==============================] - 1s 93us/step - loss: 0.5783 - acc: 0.7242 - val_loss: 0.5944 - val_acc: 0.7207\n",
      "Epoch 20/80\n",
      "7360/7360 [==============================] - 1s 92us/step - loss: 0.5576 - acc: 0.7397 - val_loss: 0.5279 - val_acc: 0.7630\n",
      "Epoch 21/80\n",
      "7360/7360 [==============================] - 1s 93us/step - loss: 0.5432 - acc: 0.7499 - val_loss: 0.5772 - val_acc: 0.7424\n",
      "Epoch 22/80\n",
      "7360/7360 [==============================] - 1s 92us/step - loss: 0.5135 - acc: 0.7606 - val_loss: 0.5135 - val_acc: 0.7674\n",
      "Epoch 23/80\n",
      "7360/7360 [==============================] - 1s 93us/step - loss: 0.5062 - acc: 0.7610 - val_loss: 0.5254 - val_acc: 0.7516\n",
      "Epoch 24/80\n",
      "7360/7360 [==============================] - 1s 92us/step - loss: 0.4882 - acc: 0.7712 - val_loss: 0.4727 - val_acc: 0.7886\n",
      "Epoch 25/80\n",
      "7360/7360 [==============================] - 1s 92us/step - loss: 0.4989 - acc: 0.7675 - val_loss: 0.5426 - val_acc: 0.7500\n",
      "Epoch 26/80\n",
      "7360/7360 [==============================] - 1s 93us/step - loss: 0.4796 - acc: 0.7736 - val_loss: 0.4801 - val_acc: 0.7815\n",
      "Epoch 27/80\n",
      "7360/7360 [==============================] - 1s 91us/step - loss: 0.4788 - acc: 0.7662 - val_loss: 0.5134 - val_acc: 0.7679\n",
      "Epoch 28/80\n",
      "7360/7360 [==============================] - 1s 94us/step - loss: 0.4650 - acc: 0.7829 - val_loss: 0.4640 - val_acc: 0.7918\n",
      "Epoch 29/80\n",
      "7360/7360 [==============================] - 1s 93us/step - loss: 0.4384 - acc: 0.7912 - val_loss: 0.4890 - val_acc: 0.7886\n",
      "Epoch 30/80\n",
      "7360/7360 [==============================] - 1s 93us/step - loss: 0.4526 - acc: 0.7849 - val_loss: 0.4857 - val_acc: 0.7750\n",
      "Epoch 31/80\n",
      "7360/7360 [==============================] - 1s 93us/step - loss: 0.4320 - acc: 0.7940 - val_loss: 0.4796 - val_acc: 0.7826\n",
      "Epoch 32/80\n",
      "7360/7360 [==============================] - 1s 93us/step - loss: 0.4314 - acc: 0.7961 - val_loss: 0.4704 - val_acc: 0.7799\n",
      "Epoch 33/80\n",
      "7360/7360 [==============================] - 1s 93us/step - loss: 0.4248 - acc: 0.7970 - val_loss: 0.4468 - val_acc: 0.7875\n",
      "Epoch 34/80\n",
      "7360/7360 [==============================] - 1s 93us/step - loss: 0.4084 - acc: 0.8099 - val_loss: 0.4542 - val_acc: 0.7951\n",
      "Epoch 35/80\n",
      "7360/7360 [==============================] - 1s 93us/step - loss: 0.3991 - acc: 0.8139 - val_loss: 0.4419 - val_acc: 0.7940\n",
      "Epoch 36/80\n",
      "7360/7360 [==============================] - 1s 93us/step - loss: 0.3991 - acc: 0.8071 - val_loss: 0.4817 - val_acc: 0.7793\n",
      "Epoch 37/80\n",
      "7360/7360 [==============================] - 1s 93us/step - loss: 0.4080 - acc: 0.8086 - val_loss: 0.4854 - val_acc: 0.7951\n",
      "Epoch 38/80\n",
      "7360/7360 [==============================] - 1s 91us/step - loss: 0.4037 - acc: 0.8135 - val_loss: 0.4553 - val_acc: 0.7875\n",
      "Epoch 39/80\n",
      "7360/7360 [==============================] - 1s 93us/step - loss: 0.4012 - acc: 0.8145 - val_loss: 0.4687 - val_acc: 0.7897\n",
      "Epoch 40/80\n",
      "7360/7360 [==============================] - 1s 93us/step - loss: 0.3952 - acc: 0.8149 - val_loss: 0.4461 - val_acc: 0.8043\n",
      "Epoch 41/80\n",
      "7360/7360 [==============================] - 1s 93us/step - loss: 0.4001 - acc: 0.8113 - val_loss: 0.4517 - val_acc: 0.7913\n",
      "Epoch 42/80\n",
      "7360/7360 [==============================] - 1s 94us/step - loss: 0.3697 - acc: 0.8274 - val_loss: 0.4491 - val_acc: 0.7880\n",
      "Epoch 43/80\n",
      "7360/7360 [==============================] - 1s 95us/step - loss: 0.3641 - acc: 0.8291 - val_loss: 0.4902 - val_acc: 0.7875\n",
      "Epoch 44/80\n",
      "7360/7360 [==============================] - 1s 96us/step - loss: 0.3722 - acc: 0.8296 - val_loss: 0.4437 - val_acc: 0.7973\n",
      "Epoch 45/80\n",
      "7360/7360 [==============================] - 1s 93us/step - loss: 0.3771 - acc: 0.8308 - val_loss: 0.4217 - val_acc: 0.8005\n",
      "Epoch 46/80\n",
      "7360/7360 [==============================] - 1s 94us/step - loss: 0.3528 - acc: 0.8372 - val_loss: 0.4396 - val_acc: 0.8000\n",
      "Epoch 47/80\n",
      "7360/7360 [==============================] - 1s 95us/step - loss: 0.3439 - acc: 0.8399 - val_loss: 0.4734 - val_acc: 0.7793\n",
      "Epoch 48/80\n",
      "7360/7360 [==============================] - 1s 91us/step - loss: 0.3553 - acc: 0.8340 - val_loss: 0.4130 - val_acc: 0.8098\n",
      "Epoch 49/80\n",
      "7360/7360 [==============================] - 1s 92us/step - loss: 0.3377 - acc: 0.8429 - val_loss: 0.4602 - val_acc: 0.7978\n",
      "Epoch 50/80\n",
      "7360/7360 [==============================] - 1s 93us/step - loss: 0.3427 - acc: 0.8428 - val_loss: 0.4425 - val_acc: 0.8071\n",
      "Epoch 51/80\n",
      "7360/7360 [==============================] - 1s 93us/step - loss: 0.3331 - acc: 0.8481 - val_loss: 0.4626 - val_acc: 0.7984\n",
      "Epoch 52/80\n",
      "7360/7360 [==============================] - 1s 93us/step - loss: 0.3256 - acc: 0.8503 - val_loss: 0.4178 - val_acc: 0.8076\n",
      "Epoch 53/80\n",
      "7360/7360 [==============================] - 1s 92us/step - loss: 0.3168 - acc: 0.8565 - val_loss: 0.4222 - val_acc: 0.8087\n",
      "Epoch 54/80\n",
      "7360/7360 [==============================] - 1s 92us/step - loss: 0.3019 - acc: 0.8624 - val_loss: 0.4494 - val_acc: 0.8049\n",
      "Epoch 55/80\n",
      "7360/7360 [==============================] - 1s 94us/step - loss: 0.3000 - acc: 0.8607 - val_loss: 0.4531 - val_acc: 0.8092\n",
      "Epoch 56/80\n",
      "7360/7360 [==============================] - 1s 92us/step - loss: 0.3040 - acc: 0.8606 - val_loss: 0.4187 - val_acc: 0.8163\n",
      "Epoch 57/80\n",
      "7360/7360 [==============================] - 1s 93us/step - loss: 0.3091 - acc: 0.8607 - val_loss: 0.4271 - val_acc: 0.8174\n",
      "Epoch 58/80\n",
      "7360/7360 [==============================] - 1s 92us/step - loss: 0.2924 - acc: 0.8685 - val_loss: 0.4427 - val_acc: 0.8087\n",
      "Epoch 59/80\n",
      "7360/7360 [==============================] - 1s 94us/step - loss: 0.2741 - acc: 0.8773 - val_loss: 0.4689 - val_acc: 0.8082\n",
      "Epoch 60/80\n",
      "7360/7360 [==============================] - 1s 93us/step - loss: 0.2837 - acc: 0.8740 - val_loss: 0.4319 - val_acc: 0.8054\n"
     ]
    },
    {
     "name": "stdout",
     "output_type": "stream",
     "text": [
      "Epoch 61/80\n",
      "7360/7360 [==============================] - 1s 92us/step - loss: 0.2887 - acc: 0.8683 - val_loss: 0.4417 - val_acc: 0.8060\n",
      "Epoch 62/80\n",
      "7360/7360 [==============================] - 1s 93us/step - loss: 0.2848 - acc: 0.8749 - val_loss: 0.4445 - val_acc: 0.8125\n",
      "Epoch 63/80\n",
      "7360/7360 [==============================] - 1s 92us/step - loss: 0.2666 - acc: 0.8830 - val_loss: 0.5273 - val_acc: 0.7848\n",
      "Epoch 64/80\n",
      "7360/7360 [==============================] - 1s 92us/step - loss: 0.2851 - acc: 0.8730 - val_loss: 0.4387 - val_acc: 0.8076\n",
      "Epoch 65/80\n",
      "7360/7360 [==============================] - 1s 93us/step - loss: 0.2521 - acc: 0.8864 - val_loss: 0.4828 - val_acc: 0.7957\n",
      "Epoch 66/80\n",
      "7360/7360 [==============================] - 1s 93us/step - loss: 0.2647 - acc: 0.8841 - val_loss: 0.4443 - val_acc: 0.8082\n",
      "Epoch 67/80\n",
      "7360/7360 [==============================] - 1s 92us/step - loss: 0.2510 - acc: 0.8904 - val_loss: 0.4696 - val_acc: 0.8060\n",
      "Epoch 68/80\n",
      "7360/7360 [==============================] - 1s 91us/step - loss: 0.2735 - acc: 0.8798 - val_loss: 0.4348 - val_acc: 0.8092\n",
      "Epoch 69/80\n",
      "7360/7360 [==============================] - 1s 93us/step - loss: 0.2505 - acc: 0.8925 - val_loss: 0.4695 - val_acc: 0.8043\n",
      "Epoch 70/80\n",
      "7360/7360 [==============================] - 1s 93us/step - loss: 0.2302 - acc: 0.9003 - val_loss: 0.4576 - val_acc: 0.8109\n",
      "Epoch 71/80\n",
      "7360/7360 [==============================] - 1s 92us/step - loss: 0.2269 - acc: 0.9019 - val_loss: 0.4686 - val_acc: 0.8065\n",
      "Epoch 72/80\n",
      "7360/7360 [==============================] - 1s 93us/step - loss: 0.2174 - acc: 0.9067 - val_loss: 0.5081 - val_acc: 0.7957\n",
      "Epoch 73/80\n",
      "7360/7360 [==============================] - 1s 93us/step - loss: 0.2443 - acc: 0.8974 - val_loss: 0.4886 - val_acc: 0.8060\n",
      "Epoch 74/80\n",
      "7360/7360 [==============================] - 1s 92us/step - loss: 0.2086 - acc: 0.9125 - val_loss: 0.4831 - val_acc: 0.8043\n",
      "Epoch 75/80\n",
      "7360/7360 [==============================] - 1s 94us/step - loss: 0.2035 - acc: 0.9159 - val_loss: 0.5131 - val_acc: 0.8082\n",
      "Epoch 76/80\n",
      "7360/7360 [==============================] - 1s 91us/step - loss: 0.2120 - acc: 0.9061 - val_loss: 0.5148 - val_acc: 0.7995\n",
      "Epoch 77/80\n",
      "7360/7360 [==============================] - 1s 93us/step - loss: 0.1992 - acc: 0.9173 - val_loss: 0.4885 - val_acc: 0.8130\n",
      "Epoch 78/80\n",
      "7360/7360 [==============================] - 1s 91us/step - loss: 0.1978 - acc: 0.9159 - val_loss: 0.5381 - val_acc: 0.7957\n",
      "Epoch 79/80\n",
      "7360/7360 [==============================] - 1s 93us/step - loss: 0.2012 - acc: 0.9155 - val_loss: 0.4805 - val_acc: 0.8141\n",
      "Epoch 80/80\n",
      "7360/7360 [==============================] - 1s 94us/step - loss: 0.1875 - acc: 0.9209 - val_loss: 0.5532 - val_acc: 0.7946\n",
      "2300/2300 [==============================] - 1s 250us/step\n",
      "acc: 78.78%\n",
      "Confusion matrix:\n",
      " [[435   6   5   0   0]\n",
      " [  5 263 183   1   8]\n",
      " [  0  85 334   0  11]\n",
      " [  0   0  11 361 103]\n",
      " [  0   4  47  19 419]]\n"
     ]
    },
    {
     "data": {
      "image/png": "[encoded data removed]",
      "text/plain": [
       "<Figure size 432x288 with 1 Axes>"
      ]
     },
     "metadata": {
      "needs_background": "light"
     },
     "output_type": "display_data"
    },
    {
     "data": {
      "image/png": "[encoded data removed]",
      "text/plain": [
       "<Figure size 432x288 with 2 Axes>"
      ]
     },
     "metadata": {
      "needs_background": "light"
     },
     "output_type": "display_data"
    },
    {
     "name": "stdout",
     "output_type": "stream",
     "text": [
      "\n",
      "--- Learning curve of model training ---\n",
      "\n"
     ]
    },
    {
     "data": {
      "image/png": "[encoded data removed]",
      "text/plain": [
       "<Figure size 432x288 with 1 Axes>"
      ]
     },
     "metadata": {
      "needs_background": "light"
     },
     "output_type": "display_data"
    }
   ],
   "source": [
    "# Compile model\n",
    "model_m.compile(loss='categorical_crossentropy', optimizer='adam', metrics=['accuracy'])\n",
    "\n",
    "#X_train = np.reshape(X_train,(X_train.shape[0], X_train.shape[1],1))\n",
    "history=model_m.fit(X_train, y_train_hot, batch_size = 400, epochs=80, validation_split=0.2, verbose=1)\n",
    "\n",
    "\n",
    "pl.plot(history.history['acc'], \"g--\", label=\"Accuracy of training data\")\n",
    "#evaluate the model\n",
    "scores=model_m.evaluate(X_test, y_test_hot, verbose=1)\n",
    "print(\"%s: %.2f%%\" % (model_m.metrics_names[1], scores[1]*100))\n",
    "\n",
    "predictions = model_m.predict(X_test)\n",
    "y_test_hot = np.argmax(y_test_hot, axis=-1)\n",
    "predictions = np.argmax(predictions, axis=-1)\n",
    "c = confusion_matrix(y_test_hot, predictions)\n",
    "print('Confusion matrix:\\n', c)\n",
    "fig = pl.figure()\n",
    "ax = fig.add_subplot(111)\n",
    "cax = ax.matshow(c)\n",
    "pl.title('Confusion matrix of the classifier')\n",
    "fig.colorbar(cax)\n",
    "ax.set_xticklabels([''] )\n",
    "ax.set_yticklabels([''])\n",
    "pl.xlabel('Predicted')\n",
    "pl.ylabel('True')\n",
    "pl.show()\n",
    "print(\"\\n--- Learning curve of model training ---\\n\")\n",
    "pl.figure()\n",
    "pl.plot(history.history['acc'], \"g--\", label=\"Accuracy of training data\")\n",
    "pl.plot(history.history['val_acc'], \"g\", label=\"Accuracy of validation data\")\n",
    "pl.plot(history.history['loss'], \"r--\", label=\"Loss of training data\")\n",
    "pl.plot(history.history['val_loss'], \"r\", label=\"Loss of validation data\")\n",
    "pl.title('Model Accuracy and Loss')\n",
    "pl.legend()\n",
    "pl.show()"
   ]
  },
  {
   "cell_type": "code",
   "execution_count": null,
   "metadata": {},
   "outputs": [],
   "source": []
  },
  {
   "cell_type": "code",
   "execution_count": null,
   "metadata": {},
   "outputs": [],
   "source": []
  },
  {
   "cell_type": "code",
   "execution_count": null,
   "metadata": {},
   "outputs": [],
   "source": []
  }
 ],
 "metadata": {
  "kernelspec": {
   "display_name": "TensorFlow-GPU",
   "language": "python",
   "name": "tf-gpu"
  },
  "language_info": {
   "codemirror_mode": {
    "name": "ipython",
    "version": 3
   },
   "file_extension": ".py",
   "mimetype": "text/x-python",
   "name": "python",
   "nbconvert_exporter": "python",
   "pygments_lexer": "ipython3",
   "version": "3.6.8"
  }
 },
 "nbformat": 4,
 "nbformat_minor": 2
}
