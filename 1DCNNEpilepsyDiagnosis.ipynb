{
 "cells": [
  {
   "cell_type": "code",
   "execution_count": 32,
   "metadata": {},
   "outputs": [],
   "source": [
    "import sys\n",
    "import numpy as np\n",
    "\n",
    "\n",
    "from numpy.random import seed\n",
    "seed(1)\n",
    "from tensorflow import set_random_seed\n",
    "set_random_seed(2)\n",
    "\n",
    "import scipy as sp\n",
    "import scipy.io as spio\n",
    "import matplotlib.pylab as pl\n",
    "\n",
    "from tensorflow.python import keras\n",
    "from sklearn.model_selection import train_test_split\n",
    "\n",
    "from tensorflow.python.keras.models import Sequential, Model\n",
    "from tensorflow.python.keras.layers import Dense, Flatten, Conv1D, Dropout, MaxPooling1D, Reshape, GlobalAveragePooling1D\n",
    "from tensorflow.python.keras.utils import np_utils"
   ]
  },
  {
   "cell_type": "code",
   "execution_count": 2,
   "metadata": {},
   "outputs": [
    {
     "name": "stdout",
     "output_type": "stream",
     "text": [
      "[4. 1. 5. ... 5. 3. 4.]\n",
      "(9200, 177)\n",
      "(9200,)\n"
     ]
    }
   ],
   "source": [
    "dataset = np.loadtxt(\"datalast.csv\",delimiter=\",\")\n",
    "X = dataset[:,0:177]\n",
    "y = dataset[:,178]\n",
    "\n",
    "\n",
    "#print(X[0].shape)\n",
    "\n",
    "X_train, X_test, y_train, y_test = train_test_split(X, y, test_size=0.2, random_state=0)\n",
    "\n",
    "print(y)\n",
    "\n",
    "\n",
    "print(X_train.shape)\n",
    "print (y_train.shape)"
   ]
  },
  {
   "cell_type": "code",
   "execution_count": 29,
   "metadata": {},
   "outputs": [
    {
     "name": "stdout",
     "output_type": "stream",
     "text": [
      "(9200, 177, 1)\n",
      "(9200, 1)\n"
     ]
    }
   ],
   "source": [
    "X_train = X_train.reshape(X_train.shape[0], X_train.shape[1], 1)\n",
    "y_train = y_train.reshape(y_train.shape[0],1)\n",
    "\n",
    "\n",
    "print(X_train.shape)\n",
    "print (y_train.shape)"
   ]
  },
  {
   "cell_type": "code",
   "execution_count": 34,
   "metadata": {},
   "outputs": [
    {
     "name": "stdout",
     "output_type": "stream",
     "text": [
      "New y_train shape:  (9200, 5)\n"
     ]
    }
   ],
   "source": [
    "y_train_hot = np_utils.to_categorical(y_train-1, 5) # subtracting y_train-1 as keras starts num_Classes index from 0 and we had it from 1 to 5\n",
    "print('New y_train shape: ', y_train_hot.shape)\n"
   ]
  },
  {
   "cell_type": "code",
   "execution_count": 57,
   "metadata": {},
   "outputs": [
    {
     "name": "stdout",
     "output_type": "stream",
     "text": [
      "_________________________________________________________________\n",
      "Layer (type)                 Output Shape              Param #   \n",
      "=================================================================\n",
      "conv1d_98 (Conv1D)           (None, 168, 60)           660       \n",
      "_________________________________________________________________\n",
      "conv1d_99 (Conv1D)           (None, 159, 60)           36060     \n",
      "_________________________________________________________________\n",
      "max_pooling1d_34 (MaxPooling (None, 79, 60)            0         \n",
      "_________________________________________________________________\n",
      "dropout_32 (Dropout)         (None, 79, 60)            0         \n",
      "_________________________________________________________________\n",
      "conv1d_100 (Conv1D)          (None, 70, 100)           60100     \n",
      "_________________________________________________________________\n",
      "conv1d_101 (Conv1D)          (None, 61, 100)           100100    \n",
      "_________________________________________________________________\n",
      "max_pooling1d_35 (MaxPooling (None, 30, 100)           0         \n",
      "_________________________________________________________________\n",
      "dropout_33 (Dropout)         (None, 30, 100)           0         \n",
      "_________________________________________________________________\n",
      "conv1d_102 (Conv1D)          (None, 26, 50)            25050     \n",
      "_________________________________________________________________\n",
      "global_average_pooling1d_18  (None, 50)                0         \n",
      "_________________________________________________________________\n",
      "dropout_34 (Dropout)         (None, 50)                0         \n",
      "_________________________________________________________________\n",
      "dense_20 (Dense)             (None, 5)                 255       \n",
      "=================================================================\n",
      "Total params: 222,225\n",
      "Trainable params: 222,225\n",
      "Non-trainable params: 0\n",
      "_________________________________________________________________\n",
      "None\n"
     ]
    }
   ],
   "source": [
    "model_m = Sequential()\n",
    "model_m.add(Conv1D(60, 10, activation='relu', input_shape=(177,1)))\n",
    "model_m.add(Conv1D(60, 10, activation='relu'))\n",
    "model_m.add(MaxPooling1D(2))\n",
    "model_m.add(Dropout(0.15))\n",
    "\n",
    "model_m.add(Conv1D(100, 10, activation='relu'))\n",
    "model_m.add(Conv1D(100, 10, activation='relu'))\n",
    "model_m.add(MaxPooling1D(2))\n",
    "model_m.add(Dropout(0.15))\n",
    "model_m.add(Conv1D(50, 5, activation='relu'))\n",
    "model_m.add(GlobalAveragePooling1D())\n",
    "model_m.add(Dropout(0.15))\n",
    "model_m.add(Dense(5, activation='softmax'))\n",
    "print(model_m.summary())"
   ]
  },
  {
   "cell_type": "code",
   "execution_count": 58,
   "metadata": {},
   "outputs": [
    {
     "name": "stdout",
     "output_type": "stream",
     "text": [
      "Train on 7360 samples, validate on 1840 samples\n",
      "Epoch 1/50\n",
      "7360/7360 [==============================] - 19s 3ms/step - loss: 2.1778 - acc: 0.2159 - val_loss: 1.4225 - val_acc: 0.1870\n",
      "Epoch 2/50\n",
      "7360/7360 [==============================] - 18s 2ms/step - loss: 1.3459 - acc: 0.2813 - val_loss: 1.2342 - val_acc: 0.3766\n",
      "Epoch 3/50\n",
      "7360/7360 [==============================] - 19s 3ms/step - loss: 1.1572 - acc: 0.4784 - val_loss: 1.0191 - val_acc: 0.5418\n",
      "Epoch 4/50\n",
      "7360/7360 [==============================] - 19s 3ms/step - loss: 1.0002 - acc: 0.5628 - val_loss: 0.9358 - val_acc: 0.5951\n",
      "Epoch 5/50\n",
      "7360/7360 [==============================] - 19s 3ms/step - loss: 0.9455 - acc: 0.5924 - val_loss: 0.8534 - val_acc: 0.6386\n",
      "Epoch 6/50\n",
      "7360/7360 [==============================] - 19s 3ms/step - loss: 0.8778 - acc: 0.6166 - val_loss: 0.8050 - val_acc: 0.6679\n",
      "Epoch 7/50\n",
      "7360/7360 [==============================] - 20s 3ms/step - loss: 0.8311 - acc: 0.6351 - val_loss: 0.7643 - val_acc: 0.6647\n",
      "Epoch 8/50\n",
      "7360/7360 [==============================] - 19s 3ms/step - loss: 0.7902 - acc: 0.6476 - val_loss: 0.7439 - val_acc: 0.6772\n",
      "Epoch 9/50\n",
      "7360/7360 [==============================] - 20s 3ms/step - loss: 0.7479 - acc: 0.6626 - val_loss: 0.6877 - val_acc: 0.7005\n",
      "Epoch 10/50\n",
      "7360/7360 [==============================] - 19s 3ms/step - loss: 0.7245 - acc: 0.6762 - val_loss: 0.6913 - val_acc: 0.6859\n",
      "Epoch 11/50\n",
      "7360/7360 [==============================] - 19s 3ms/step - loss: 0.7003 - acc: 0.6833 - val_loss: 0.6615 - val_acc: 0.6973\n",
      "Epoch 12/50\n",
      "7360/7360 [==============================] - 20s 3ms/step - loss: 0.6737 - acc: 0.6859 - val_loss: 0.6632 - val_acc: 0.6973\n",
      "Epoch 13/50\n",
      "7360/7360 [==============================] - 19s 3ms/step - loss: 0.6773 - acc: 0.6852 - val_loss: 0.7393 - val_acc: 0.6810\n",
      "Epoch 14/50\n",
      "7360/7360 [==============================] - 19s 3ms/step - loss: 0.6599 - acc: 0.6952 - val_loss: 0.5910 - val_acc: 0.7174\n",
      "Epoch 15/50\n",
      "7360/7360 [==============================] - 20s 3ms/step - loss: 0.6386 - acc: 0.7038 - val_loss: 0.6388 - val_acc: 0.7179\n",
      "Epoch 16/50\n",
      "7360/7360 [==============================] - 20s 3ms/step - loss: 0.6318 - acc: 0.7012 - val_loss: 0.6194 - val_acc: 0.7223\n",
      "Epoch 17/50\n",
      "7360/7360 [==============================] - 19s 3ms/step - loss: 0.6183 - acc: 0.7101 - val_loss: 0.6049 - val_acc: 0.7087\n",
      "Epoch 18/50\n",
      "7360/7360 [==============================] - 19s 3ms/step - loss: 0.5806 - acc: 0.7211 - val_loss: 0.5442 - val_acc: 0.7451\n",
      "Epoch 19/50\n",
      "7360/7360 [==============================] - 20s 3ms/step - loss: 0.5687 - acc: 0.7270 - val_loss: 0.5315 - val_acc: 0.7527\n",
      "Epoch 20/50\n",
      "7360/7360 [==============================] - 19s 3ms/step - loss: 0.5457 - acc: 0.7447 - val_loss: 0.5486 - val_acc: 0.7408\n",
      "Epoch 21/50\n",
      "7360/7360 [==============================] - 21s 3ms/step - loss: 0.5489 - acc: 0.7443 - val_loss: 0.4948 - val_acc: 0.7668\n",
      "Epoch 22/50\n",
      "7360/7360 [==============================] - 20s 3ms/step - loss: 0.5291 - acc: 0.7470 - val_loss: 0.4947 - val_acc: 0.7755\n",
      "Epoch 23/50\n",
      "7360/7360 [==============================] - 20s 3ms/step - loss: 0.5114 - acc: 0.7539 - val_loss: 0.5230 - val_acc: 0.7587\n",
      "Epoch 24/50\n",
      "7360/7360 [==============================] - 20s 3ms/step - loss: 0.4991 - acc: 0.7690 - val_loss: 0.4954 - val_acc: 0.7603\n",
      "Epoch 25/50\n",
      "7360/7360 [==============================] - 20s 3ms/step - loss: 0.4800 - acc: 0.7686 - val_loss: 0.5156 - val_acc: 0.7674\n",
      "Epoch 26/50\n",
      "7360/7360 [==============================] - 20s 3ms/step - loss: 0.4780 - acc: 0.7698 - val_loss: 0.4746 - val_acc: 0.7891\n",
      "Epoch 27/50\n",
      "7360/7360 [==============================] - 20s 3ms/step - loss: 0.4736 - acc: 0.7754 - val_loss: 0.5080 - val_acc: 0.7495\n",
      "Epoch 28/50\n",
      "7360/7360 [==============================] - 20s 3ms/step - loss: 0.4722 - acc: 0.7713 - val_loss: 0.4579 - val_acc: 0.7837\n",
      "Epoch 29/50\n",
      "7360/7360 [==============================] - 20s 3ms/step - loss: 0.4675 - acc: 0.7734 - val_loss: 0.4901 - val_acc: 0.7625\n",
      "Epoch 30/50\n",
      "7360/7360 [==============================] - 20s 3ms/step - loss: 0.4591 - acc: 0.7836 - val_loss: 0.4577 - val_acc: 0.7870\n",
      "Epoch 31/50\n",
      "7360/7360 [==============================] - 21s 3ms/step - loss: 0.4740 - acc: 0.7760 - val_loss: 0.5018 - val_acc: 0.7658\n",
      "Epoch 32/50\n",
      "7360/7360 [==============================] - 19s 3ms/step - loss: 0.4420 - acc: 0.7890 - val_loss: 0.5531 - val_acc: 0.7364\n",
      "Epoch 33/50\n",
      "7360/7360 [==============================] - 20s 3ms/step - loss: 0.4700 - acc: 0.7784 - val_loss: 0.5290 - val_acc: 0.7473\n",
      "Epoch 34/50\n",
      "7360/7360 [==============================] - 21s 3ms/step - loss: 0.4669 - acc: 0.7747 - val_loss: 0.5166 - val_acc: 0.7522\n",
      "Epoch 35/50\n",
      "7360/7360 [==============================] - 20s 3ms/step - loss: 0.4470 - acc: 0.7818 - val_loss: 0.4514 - val_acc: 0.7848\n",
      "Epoch 36/50\n",
      "7360/7360 [==============================] - 20s 3ms/step - loss: 0.4468 - acc: 0.7902 - val_loss: 0.4776 - val_acc: 0.7761\n",
      "Epoch 37/50\n",
      "7360/7360 [==============================] - 20s 3ms/step - loss: 0.4378 - acc: 0.7893 - val_loss: 0.4336 - val_acc: 0.7935\n",
      "Epoch 38/50\n",
      "7360/7360 [==============================] - 19s 3ms/step - loss: 0.4174 - acc: 0.8054 - val_loss: 0.4339 - val_acc: 0.7902\n",
      "Epoch 39/50\n",
      "7360/7360 [==============================] - 19s 3ms/step - loss: 0.4076 - acc: 0.8057 - val_loss: 0.4329 - val_acc: 0.7973\n",
      "Epoch 40/50\n",
      "7360/7360 [==============================] - 19s 3ms/step - loss: 0.3955 - acc: 0.8156 - val_loss: 0.4643 - val_acc: 0.7880\n",
      "Epoch 41/50\n",
      "7360/7360 [==============================] - 20s 3ms/step - loss: 0.4151 - acc: 0.8087 - val_loss: 0.4299 - val_acc: 0.8011\n",
      "Epoch 42/50\n",
      "7360/7360 [==============================] - 20s 3ms/step - loss: 0.4169 - acc: 0.8007 - val_loss: 0.5102 - val_acc: 0.7761\n",
      "Epoch 43/50\n",
      "7360/7360 [==============================] - 20s 3ms/step - loss: 0.4076 - acc: 0.8083 - val_loss: 0.4977 - val_acc: 0.7766\n",
      "Epoch 44/50\n",
      "7360/7360 [==============================] - 20s 3ms/step - loss: 0.4341 - acc: 0.7993 - val_loss: 0.4347 - val_acc: 0.7989\n",
      "Epoch 45/50\n",
      "7360/7360 [==============================] - 19s 3ms/step - loss: 0.4039 - acc: 0.8141 - val_loss: 0.4368 - val_acc: 0.7973\n",
      "Epoch 46/50\n",
      "7360/7360 [==============================] - 20s 3ms/step - loss: 0.4030 - acc: 0.8145 - val_loss: 0.4827 - val_acc: 0.7560\n",
      "Epoch 47/50\n",
      "7360/7360 [==============================] - 20s 3ms/step - loss: 0.4194 - acc: 0.8049 - val_loss: 0.4598 - val_acc: 0.7810\n",
      "Epoch 48/50\n",
      "7360/7360 [==============================] - 20s 3ms/step - loss: 0.3997 - acc: 0.8160 - val_loss: 0.4488 - val_acc: 0.8005\n",
      "Epoch 49/50\n",
      "7360/7360 [==============================] - 19s 3ms/step - loss: 0.3757 - acc: 0.8288 - val_loss: 0.4221 - val_acc: 0.8016\n",
      "Epoch 50/50\n",
      "7360/7360 [==============================] - 20s 3ms/step - loss: 0.3649 - acc: 0.8272 - val_loss: 0.4610 - val_acc: 0.7723\n"
     ]
    },
    {
     "data": {
      "text/plain": [
       "<tensorflow.python.keras.callbacks.History at 0x7f850a523c18>"
      ]
     },
     "execution_count": 58,
     "metadata": {},
     "output_type": "execute_result"
    }
   ],
   "source": [
    "# Compile model\n",
    "model_m.compile(loss='categorical_crossentropy', optimizer='adam', metrics=['accuracy'])\n",
    "\n",
    "#X_train = np.reshape(X_train,(X_train.shape[0], X_train.shape[1],1))\n",
    "model_m.fit(X_train, y_train_hot, batch_size = 400, epochs=50, validation_split=0.2, verbose=1)"
   ]
  },
  {
   "cell_type": "code",
   "execution_count": null,
   "metadata": {},
   "outputs": [],
   "source": []
  }
 ],
 "metadata": {
  "kernelspec": {
   "display_name": "TensorFlow-GPU",
   "language": "python",
   "name": "tf-gpu"
  },
  "language_info": {
   "codemirror_mode": {
    "name": "ipython",
    "version": 3
   },
   "file_extension": ".py",
   "mimetype": "text/x-python",
   "name": "python",
   "nbconvert_exporter": "python",
   "pygments_lexer": "ipython3",
   "version": "3.6.6"
  }
 },
 "nbformat": 4,
 "nbformat_minor": 2
}
